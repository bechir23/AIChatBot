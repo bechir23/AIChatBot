{
 "cells": [
  {
   "cell_type": "code",
   "execution_count": 246,
   "metadata": {},
   "outputs": [],
   "source": [
    "import pandas as pd\n",
    "import re\n",
    "from email import policy\n",
    "from email.parser import BytesParser\n",
    "from bs4 import BeautifulSoup\n",
    "from email import message_from_string\n"
   ]
  },
  {
   "cell_type": "code",
   "execution_count": 247,
   "metadata": {},
   "outputs": [],
   "source": [
    "data = pd.read_csv(\"C:/Users/bechi/Downloads/archive/emails.csv\", nrows=70000)"
   ]
  },
  {
   "cell_type": "code",
   "execution_count": 248,
   "metadata": {},
   "outputs": [
    {
     "data": {
      "text/plain": [
       "\"Message-ID: <18782981.1075855378110.JavaMail.evans@thyme>\\nDate: Mon, 14 May 2001 16:39:00 -0700 (PDT)\\nFrom: phillip.allen@enron.com\\nTo: tim.belden@enron.com\\nSubject: \\nMime-Version: 1.0\\nContent-Type: text/plain; charset=us-ascii\\nContent-Transfer-Encoding: 7bit\\nX-From: Phillip K Allen\\nX-To: Tim Belden <Tim Belden/Enron@EnronXGate>\\nX-cc: \\nX-bcc: \\nX-Folder: \\\\Phillip_Allen_Jan2002_1\\\\Allen, Phillip K.\\\\'Sent Mail\\nX-Origin: Allen-P\\nX-FileName: pallen (Non-Privileged).pst\\n\\nHere is our forecast\\n\\n \""
      ]
     },
     "execution_count": 248,
     "metadata": {},
     "output_type": "execute_result"
    }
   ],
   "source": [
    "data['message'][0]\n"
   ]
  },
  {
   "cell_type": "markdown",
   "metadata": {},
   "source": []
  },
  {
   "cell_type": "code",
   "execution_count": 249,
   "metadata": {},
   "outputs": [],
   "source": [
    "\n",
    "def clean_email(email_str):\n",
    "    msg = message_from_string(email_str)\n",
    "    \n",
    "    from_address = msg.get('From')\n",
    "    to_address = msg.get('To')\n",
    "    subject = msg.get('Subject')\n",
    "    date = msg.get('Date')\n",
    "    body = \"\"   \n",
    "    if msg.is_multipart():\n",
    "        for part in msg.get_payload():\n",
    "            if part.get_content_type() == 'text/html':\n",
    "                html_content = part.get_payload()\n",
    "                soup = BeautifulSoup(html_content, \"html.parser\")\n",
    "                body = soup.get_text(separator=' ')\n",
    "                break\n",
    "    else:\n",
    "        body = msg.get_payload()\n",
    "    \n",
    "    return from_address, to_address, subject, date, body"
   ]
  },
  {
   "cell_type": "code",
   "execution_count": 250,
   "metadata": {},
   "outputs": [],
   "source": [
    "cleaned_data = pd.DataFrame([clean_email(data[\"message\"][i]) for i in range(len(data))], \n",
    "                            columns=['from_address', 'to_address', 'subject', 'date', 'body'])"
   ]
  },
  {
   "cell_type": "code",
   "execution_count": 251,
   "metadata": {},
   "outputs": [
    {
     "data": {
      "text/plain": [
       "from_address       0\n",
       "to_address      3857\n",
       "subject            0\n",
       "date               0\n",
       "body               0\n",
       "dtype: int64"
      ]
     },
     "execution_count": 251,
     "metadata": {},
     "output_type": "execute_result"
    }
   ],
   "source": [
    "cleaned_data.isnull().sum()"
   ]
  },
  {
   "cell_type": "code",
   "execution_count": 252,
   "metadata": {},
   "outputs": [],
   "source": [
    "cleaned_data = cleaned_data.dropna()\n",
    "cleaned_data=cleaned_data[cleaned_data[\"body\"]!=\"\"]"
   ]
  },
  {
   "cell_type": "code",
   "execution_count": 253,
   "metadata": {},
   "outputs": [
    {
     "data": {
      "text/html": [
       "<div>\n",
       "<style scoped>\n",
       "    .dataframe tbody tr th:only-of-type {\n",
       "        vertical-align: middle;\n",
       "    }\n",
       "\n",
       "    .dataframe tbody tr th {\n",
       "        vertical-align: top;\n",
       "    }\n",
       "\n",
       "    .dataframe thead th {\n",
       "        text-align: right;\n",
       "    }\n",
       "</style>\n",
       "<table border=\"1\" class=\"dataframe\">\n",
       "  <thead>\n",
       "    <tr style=\"text-align: right;\">\n",
       "      <th></th>\n",
       "      <th>from_address</th>\n",
       "      <th>to_address</th>\n",
       "      <th>subject</th>\n",
       "      <th>date</th>\n",
       "      <th>body</th>\n",
       "    </tr>\n",
       "  </thead>\n",
       "  <tbody>\n",
       "    <tr>\n",
       "      <th>0</th>\n",
       "      <td>phillip.allen@enron.com</td>\n",
       "      <td>tim.belden@enron.com</td>\n",
       "      <td></td>\n",
       "      <td>Mon, 14 May 2001 16:39:00 -0700 (PDT)</td>\n",
       "      <td>Here is our forecast\\n\\n</td>\n",
       "    </tr>\n",
       "    <tr>\n",
       "      <th>1</th>\n",
       "      <td>phillip.allen@enron.com</td>\n",
       "      <td>john.lavorato@enron.com</td>\n",
       "      <td>Re:</td>\n",
       "      <td>Fri, 4 May 2001 13:51:00 -0700 (PDT)</td>\n",
       "      <td>Traveling to have a business meeting takes the...</td>\n",
       "    </tr>\n",
       "    <tr>\n",
       "      <th>2</th>\n",
       "      <td>phillip.allen@enron.com</td>\n",
       "      <td>leah.arsdall@enron.com</td>\n",
       "      <td>Re: test</td>\n",
       "      <td>Wed, 18 Oct 2000 03:00:00 -0700 (PDT)</td>\n",
       "      <td>test successful.  way to go!!!</td>\n",
       "    </tr>\n",
       "    <tr>\n",
       "      <th>3</th>\n",
       "      <td>phillip.allen@enron.com</td>\n",
       "      <td>randall.gay@enron.com</td>\n",
       "      <td></td>\n",
       "      <td>Mon, 23 Oct 2000 06:13:00 -0700 (PDT)</td>\n",
       "      <td>Randy,\\n\\n Can you send me a schedule of the s...</td>\n",
       "    </tr>\n",
       "    <tr>\n",
       "      <th>4</th>\n",
       "      <td>phillip.allen@enron.com</td>\n",
       "      <td>greg.piper@enron.com</td>\n",
       "      <td>Re: Hello</td>\n",
       "      <td>Thu, 31 Aug 2000 05:07:00 -0700 (PDT)</td>\n",
       "      <td>Let's shoot for Tuesday at 11:45.</td>\n",
       "    </tr>\n",
       "  </tbody>\n",
       "</table>\n",
       "</div>"
      ],
      "text/plain": [
       "              from_address               to_address    subject  \\\n",
       "0  phillip.allen@enron.com     tim.belden@enron.com              \n",
       "1  phillip.allen@enron.com  john.lavorato@enron.com        Re:   \n",
       "2  phillip.allen@enron.com   leah.arsdall@enron.com   Re: test   \n",
       "3  phillip.allen@enron.com    randall.gay@enron.com              \n",
       "4  phillip.allen@enron.com     greg.piper@enron.com  Re: Hello   \n",
       "\n",
       "                                    date  \\\n",
       "0  Mon, 14 May 2001 16:39:00 -0700 (PDT)   \n",
       "1   Fri, 4 May 2001 13:51:00 -0700 (PDT)   \n",
       "2  Wed, 18 Oct 2000 03:00:00 -0700 (PDT)   \n",
       "3  Mon, 23 Oct 2000 06:13:00 -0700 (PDT)   \n",
       "4  Thu, 31 Aug 2000 05:07:00 -0700 (PDT)   \n",
       "\n",
       "                                                body  \n",
       "0                          Here is our forecast\\n\\n   \n",
       "1  Traveling to have a business meeting takes the...  \n",
       "2                     test successful.  way to go!!!  \n",
       "3  Randy,\\n\\n Can you send me a schedule of the s...  \n",
       "4                Let's shoot for Tuesday at 11:45.    "
      ]
     },
     "execution_count": 253,
     "metadata": {},
     "output_type": "execute_result"
    }
   ],
   "source": [
    "cleaned_data.head()"
   ]
  },
  {
   "cell_type": "code",
   "execution_count": 254,
   "metadata": {},
   "outputs": [
    {
     "name": "stdout",
     "output_type": "stream",
     "text": [
      "24546\n"
     ]
    },
    {
     "data": {
      "text/plain": [
       "41597"
      ]
     },
     "execution_count": 254,
     "metadata": {},
     "output_type": "execute_result"
    }
   ],
   "source": [
    "duplicated_rows = cleaned_data.duplicated()\n",
    "print(duplicated_rows.sum())\n",
    "cleaned_data = cleaned_data.drop_duplicates()\n",
    "len(cleaned_data)"
   ]
  },
  {
   "cell_type": "code",
   "execution_count": 255,
   "metadata": {},
   "outputs": [],
   "source": [
    "  \n",
    "def extract_email(email_str):\n",
    "    left = ''\n",
    "    right = ''\n",
    "    email = '@'\n",
    "    \n",
    "    if '@' in email_str:\n",
    "        left, right = email_str.split('@', 1)\n",
    "        \n",
    "        \n",
    "        \n",
    "        for i in right:\n",
    "            if i.isalnum() or (i == '.' and right[0] != '.'):\n",
    "                email += i\n",
    "            else:\n",
    "                break\n",
    "                \n",
    "        for i in left[::-1]:\n",
    "            if i.isalnum() or (i == '.' and left[-1] != '.'):\n",
    "                email = i + email\n",
    "            else:\n",
    "                break      \n",
    "    \n",
    "    return email\n"
   ]
  },
  {
   "cell_type": "code",
   "execution_count": 256,
   "metadata": {},
   "outputs": [],
   "source": [
    "cleaned_data['from_address'] = cleaned_data['from_address'].apply(extract_email)\n",
    "cleaned_data['to_address'] = cleaned_data['to_address'].apply(extract_email)"
   ]
  },
  {
   "cell_type": "code",
   "execution_count": 257,
   "metadata": {},
   "outputs": [
    {
     "name": "stdout",
     "output_type": "stream",
     "text": [
      "                     from_address to_address                   subject  \\\n",
      "64617  maureen.mcvicker@enron.com          @  Memo on Regulatory Risks   \n",
      "\n",
      "                                        date  \\\n",
      "64617  Mon, 12 Jun 2000 01:51:00 -0700 (PDT)   \n",
      "\n",
      "                                                    body  \n",
      "64617  Please see the attached memo.\\n\\n\\n\\n\\n\\n\\n\\n\\...  \n",
      "41442\n"
     ]
    },
    {
     "data": {
      "text/plain": [
       "['Mon,', '14', 'May', '2001', '16:39:00', '-0700', '(PDT)']"
      ]
     },
     "execution_count": 257,
     "metadata": {},
     "output_type": "execute_result"
    }
   ],
   "source": [
    "print(cleaned_data[(cleaned_data['from_address'] == '@') | (cleaned_data['to_address'] == '@')])\n",
    "cleaned_data = cleaned_data[(cleaned_data['from_address'] != '@') & (cleaned_data['to_address'] != '@')]\n",
    "cleaned_data = cleaned_data[~(cleaned_data['from_address'].str.startswith('.') | cleaned_data['from_address'].str.endswith('.'))]\n",
    "cleaned_data=cleaned_data[~(cleaned_data['to_address'].str.startswith('.') | cleaned_data['to_address'].str.endswith('.'))]\n",
    "print(len(cleaned_data))\n",
    "cleaned_data[\"date\"][0].split(\" \")"
   ]
  },
  {
   "cell_type": "code",
   "execution_count": 258,
   "metadata": {},
   "outputs": [
    {
     "name": "stdout",
     "output_type": "stream",
     "text": [
      "41442\n",
      "41442\n"
     ]
    }
   ],
   "source": [
    "print(len(cleaned_data[cleaned_data['date'].str[3] == ',']))\n",
    "cleaned_data = cleaned_data[cleaned_data['date'].str[3] == ',']\n",
    "print(len(cleaned_data))"
   ]
  },
  {
   "cell_type": "code",
   "execution_count": 259,
   "metadata": {},
   "outputs": [],
   "source": [
    "def months():\n",
    "    month=[]\n",
    "    a=[]\n",
    "    count=0\n",
    "    for date in cleaned_data['date']:\n",
    "        day, subdate = date.split(',')\n",
    "        if day=='':count += count\n",
    "        subdate = subdate.split(' ')\n",
    "        if(len(subdate)>7) |(len(subdate)<7):count += count\n",
    "        if (len(subdate)==7): \n",
    "             if not subdate[2].isalpha():\n",
    "               a.append(date)\n",
    "             if(subdate[2]) not in month:\n",
    "              month.append(subdate[2])\n",
    "    print(month)  \n",
    "    print(count)  \n",
    "    return a"
   ]
  },
  {
   "cell_type": "code",
   "execution_count": 260,
   "metadata": {},
   "outputs": [
    {
     "name": "stdout",
     "output_type": "stream",
     "text": [
      "['May', 'Oct', 'Aug', 'Jul', 'Sep', 'Apr', 'Jun', 'Mar', 'Feb', 'Jan', 'Dec', 'Nov']\n",
      "0\n",
      "[]\n"
     ]
    }
   ],
   "source": [
    "a=months()\n",
    "print(a)"
   ]
  },
  {
   "cell_type": "code",
   "execution_count": 261,
   "metadata": {},
   "outputs": [
    {
     "name": "stdout",
     "output_type": "stream",
     "text": [
      "5535\n",
      "7077\n"
     ]
    }
   ],
   "source": [
    "prefixes = ['re:', 'RE:', 'rE:']\n",
    "\n",
    "filtered_data = cleaned_data[cleaned_data['subject'].apply(lambda x: any(x.startswith(prefix) for prefix in prefixes))]\n",
    "print(len(filtered_data))\n",
    "print(len(cleaned_data[cleaned_data['subject'].str.startswith('Re:')]))\n"
   ]
  },
  {
   "cell_type": "code",
   "execution_count": 262,
   "metadata": {},
   "outputs": [],
   "source": [
    "def clean_subject(subject):\n",
    "    prefixes = ['re:', 'RE:', 'rE:']\n",
    "\n",
    "\n",
    "    for prefix in prefixes:\n",
    "        if prefix in subject:\n",
    "            subject = subject.replace(prefix, 'Re:', 1)\n",
    "            \n",
    "    prefixes = ['Fw:']\n",
    "\n",
    "    for prefix in prefixes:\n",
    "        if subject.startswith(prefix):\n",
    "            subject = subject.replace(prefix, 'FW:', 1)\n",
    "            break\n",
    "    return subject\n"
   ]
  },
  {
   "cell_type": "code",
   "execution_count": 263,
   "metadata": {},
   "outputs": [
    {
     "name": "stdout",
     "output_type": "stream",
     "text": [
      "41437\n"
     ]
    }
   ],
   "source": [
    "prefixes = ['fWD:',  'FwD:', 'fWd:', 'FWd:', 'FWD:', 'fwD:','fwd:','fW']\n",
    "cleaned_data = cleaned_data[~cleaned_data['subject'].apply(lambda x: any(x.startswith(prefix) for prefix in prefixes))]\n",
    "print(len(cleaned_data))"
   ]
  },
  {
   "cell_type": "code",
   "execution_count": 264,
   "metadata": {},
   "outputs": [
    {
     "data": {
      "text/plain": [
       "41437"
      ]
     },
     "execution_count": 264,
     "metadata": {},
     "output_type": "execute_result"
    }
   ],
   "source": [
    "cleaned_data['subject'] = cleaned_data['subject'].apply(clean_subject)\n",
    "len(cleaned_data)"
   ]
  },
  {
   "cell_type": "code",
   "execution_count": 265,
   "metadata": {},
   "outputs": [
    {
     "name": "stdout",
     "output_type": "stream",
     "text": [
      "2\n"
     ]
    }
   ],
   "source": [
    "prefixes = ['fWD:',  'FwD:', 'fWd:', 'FWd:', 'FWD:', 'fwD:','fwd:','fW']\n",
    "\n",
    "filtered_data = cleaned_data[cleaned_data['subject'].apply(lambda x: any(prefix in x for prefix in prefixes)) ]\n",
    "print(len(filtered_data['subject']))\n",
    "cleaned_data = cleaned_data[~cleaned_data['subject'].apply(lambda x: any(prefix in x for prefix in prefixes))]"
   ]
  },
  {
   "cell_type": "code",
   "execution_count": 266,
   "metadata": {},
   "outputs": [
    {
     "name": "stdout",
     "output_type": "stream",
     "text": [
      "41435\n"
     ]
    }
   ],
   "source": [
    "cleaned_data.duplicated().sum()\n",
    "print(len(cleaned_data))\n"
   ]
  },
  {
   "cell_type": "code",
   "execution_count": 267,
   "metadata": {},
   "outputs": [
    {
     "name": "stdout",
     "output_type": "stream",
     "text": [
      "41429\n"
     ]
    }
   ],
   "source": [
    "cleaned_data = cleaned_data.drop_duplicates()\n",
    "print(len(cleaned_data))"
   ]
  },
  {
   "cell_type": "code",
   "execution_count": 268,
   "metadata": {},
   "outputs": [
    {
     "data": {
      "text/html": [
       "<div>\n",
       "<style scoped>\n",
       "    .dataframe tbody tr th:only-of-type {\n",
       "        vertical-align: middle;\n",
       "    }\n",
       "\n",
       "    .dataframe tbody tr th {\n",
       "        vertical-align: top;\n",
       "    }\n",
       "\n",
       "    .dataframe thead th {\n",
       "        text-align: right;\n",
       "    }\n",
       "</style>\n",
       "<table border=\"1\" class=\"dataframe\">\n",
       "  <thead>\n",
       "    <tr style=\"text-align: right;\">\n",
       "      <th></th>\n",
       "      <th>from_address</th>\n",
       "      <th>to_address</th>\n",
       "      <th>subject</th>\n",
       "      <th>date</th>\n",
       "      <th>body</th>\n",
       "    </tr>\n",
       "  </thead>\n",
       "  <tbody>\n",
       "    <tr>\n",
       "      <th>0</th>\n",
       "      <td>phillip.allen@enron.com</td>\n",
       "      <td>tim.belden@enron.com</td>\n",
       "      <td></td>\n",
       "      <td>Mon, 14 May 2001 16:39:00 -0700 (PDT)</td>\n",
       "      <td>Here is our forecast\\n\\n</td>\n",
       "    </tr>\n",
       "    <tr>\n",
       "      <th>1</th>\n",
       "      <td>phillip.allen@enron.com</td>\n",
       "      <td>john.lavorato@enron.com</td>\n",
       "      <td>Re:</td>\n",
       "      <td>Fri, 4 May 2001 13:51:00 -0700 (PDT)</td>\n",
       "      <td>Traveling to have a business meeting takes the...</td>\n",
       "    </tr>\n",
       "    <tr>\n",
       "      <th>2</th>\n",
       "      <td>phillip.allen@enron.com</td>\n",
       "      <td>leah.arsdall@enron.com</td>\n",
       "      <td>Re: test</td>\n",
       "      <td>Wed, 18 Oct 2000 03:00:00 -0700 (PDT)</td>\n",
       "      <td>test successful.  way to go!!!</td>\n",
       "    </tr>\n",
       "    <tr>\n",
       "      <th>3</th>\n",
       "      <td>phillip.allen@enron.com</td>\n",
       "      <td>randall.gay@enron.com</td>\n",
       "      <td></td>\n",
       "      <td>Mon, 23 Oct 2000 06:13:00 -0700 (PDT)</td>\n",
       "      <td>Randy,\\n\\n Can you send me a schedule of the s...</td>\n",
       "    </tr>\n",
       "    <tr>\n",
       "      <th>4</th>\n",
       "      <td>phillip.allen@enron.com</td>\n",
       "      <td>greg.piper@enron.com</td>\n",
       "      <td>Re: Hello</td>\n",
       "      <td>Thu, 31 Aug 2000 05:07:00 -0700 (PDT)</td>\n",
       "      <td>Let's shoot for Tuesday at 11:45.</td>\n",
       "    </tr>\n",
       "  </tbody>\n",
       "</table>\n",
       "</div>"
      ],
      "text/plain": [
       "              from_address               to_address    subject  \\\n",
       "0  phillip.allen@enron.com     tim.belden@enron.com              \n",
       "1  phillip.allen@enron.com  john.lavorato@enron.com        Re:   \n",
       "2  phillip.allen@enron.com   leah.arsdall@enron.com   Re: test   \n",
       "3  phillip.allen@enron.com    randall.gay@enron.com              \n",
       "4  phillip.allen@enron.com     greg.piper@enron.com  Re: Hello   \n",
       "\n",
       "                                    date  \\\n",
       "0  Mon, 14 May 2001 16:39:00 -0700 (PDT)   \n",
       "1   Fri, 4 May 2001 13:51:00 -0700 (PDT)   \n",
       "2  Wed, 18 Oct 2000 03:00:00 -0700 (PDT)   \n",
       "3  Mon, 23 Oct 2000 06:13:00 -0700 (PDT)   \n",
       "4  Thu, 31 Aug 2000 05:07:00 -0700 (PDT)   \n",
       "\n",
       "                                                body  \n",
       "0                          Here is our forecast\\n\\n   \n",
       "1  Traveling to have a business meeting takes the...  \n",
       "2                     test successful.  way to go!!!  \n",
       "3  Randy,\\n\\n Can you send me a schedule of the s...  \n",
       "4                Let's shoot for Tuesday at 11:45.    "
      ]
     },
     "execution_count": 268,
     "metadata": {},
     "output_type": "execute_result"
    }
   ],
   "source": [
    "cleaned_data.head()"
   ]
  },
  {
   "cell_type": "code",
   "execution_count": 269,
   "metadata": {},
   "outputs": [],
   "source": [
    "def normalize_text(text):\n",
    "    text = text.replace('\\n', ' ')\n",
    "    #text = re.sub(r'http\\S+', '', text)\n",
    "    #text = re.sub(r'\\S+@\\S+', '', text)\n",
    "    #text = re.sub(r'[^a-zA-Z0-9\\s]', '', text)\n",
    "    #text = text.lower()\n",
    "    return text"
   ]
  },
  {
   "cell_type": "code",
   "execution_count": 270,
   "metadata": {},
   "outputs": [],
   "source": [
    "cleaned_data['body'] = cleaned_data['body'].apply(normalize_text)\n",
    "cleaned_data['subject'] = cleaned_data['subject'].apply(normalize_text)"
   ]
  },
  {
   "cell_type": "code",
   "execution_count": 271,
   "metadata": {},
   "outputs": [
    {
     "data": {
      "text/html": [
       "<div>\n",
       "<style scoped>\n",
       "    .dataframe tbody tr th:only-of-type {\n",
       "        vertical-align: middle;\n",
       "    }\n",
       "\n",
       "    .dataframe tbody tr th {\n",
       "        vertical-align: top;\n",
       "    }\n",
       "\n",
       "    .dataframe thead th {\n",
       "        text-align: right;\n",
       "    }\n",
       "</style>\n",
       "<table border=\"1\" class=\"dataframe\">\n",
       "  <thead>\n",
       "    <tr style=\"text-align: right;\">\n",
       "      <th></th>\n",
       "      <th>from_address</th>\n",
       "      <th>to_address</th>\n",
       "      <th>subject</th>\n",
       "      <th>date</th>\n",
       "      <th>body</th>\n",
       "    </tr>\n",
       "  </thead>\n",
       "  <tbody>\n",
       "    <tr>\n",
       "      <th>0</th>\n",
       "      <td>phillip.allen@enron.com</td>\n",
       "      <td>tim.belden@enron.com</td>\n",
       "      <td></td>\n",
       "      <td>Mon, 14 May 2001 16:39:00 -0700 (PDT)</td>\n",
       "      <td>Here is our forecast</td>\n",
       "    </tr>\n",
       "    <tr>\n",
       "      <th>1</th>\n",
       "      <td>phillip.allen@enron.com</td>\n",
       "      <td>john.lavorato@enron.com</td>\n",
       "      <td>Re:</td>\n",
       "      <td>Fri, 4 May 2001 13:51:00 -0700 (PDT)</td>\n",
       "      <td>Traveling to have a business meeting takes the...</td>\n",
       "    </tr>\n",
       "    <tr>\n",
       "      <th>2</th>\n",
       "      <td>phillip.allen@enron.com</td>\n",
       "      <td>leah.arsdall@enron.com</td>\n",
       "      <td>Re: test</td>\n",
       "      <td>Wed, 18 Oct 2000 03:00:00 -0700 (PDT)</td>\n",
       "      <td>test successful.  way to go!!!</td>\n",
       "    </tr>\n",
       "    <tr>\n",
       "      <th>3</th>\n",
       "      <td>phillip.allen@enron.com</td>\n",
       "      <td>randall.gay@enron.com</td>\n",
       "      <td></td>\n",
       "      <td>Mon, 23 Oct 2000 06:13:00 -0700 (PDT)</td>\n",
       "      <td>Randy,   Can you send me a schedule of the sal...</td>\n",
       "    </tr>\n",
       "    <tr>\n",
       "      <th>4</th>\n",
       "      <td>phillip.allen@enron.com</td>\n",
       "      <td>greg.piper@enron.com</td>\n",
       "      <td>Re: Hello</td>\n",
       "      <td>Thu, 31 Aug 2000 05:07:00 -0700 (PDT)</td>\n",
       "      <td>Let's shoot for Tuesday at 11:45.</td>\n",
       "    </tr>\n",
       "  </tbody>\n",
       "</table>\n",
       "</div>"
      ],
      "text/plain": [
       "              from_address               to_address    subject  \\\n",
       "0  phillip.allen@enron.com     tim.belden@enron.com              \n",
       "1  phillip.allen@enron.com  john.lavorato@enron.com        Re:   \n",
       "2  phillip.allen@enron.com   leah.arsdall@enron.com   Re: test   \n",
       "3  phillip.allen@enron.com    randall.gay@enron.com              \n",
       "4  phillip.allen@enron.com     greg.piper@enron.com  Re: Hello   \n",
       "\n",
       "                                    date  \\\n",
       "0  Mon, 14 May 2001 16:39:00 -0700 (PDT)   \n",
       "1   Fri, 4 May 2001 13:51:00 -0700 (PDT)   \n",
       "2  Wed, 18 Oct 2000 03:00:00 -0700 (PDT)   \n",
       "3  Mon, 23 Oct 2000 06:13:00 -0700 (PDT)   \n",
       "4  Thu, 31 Aug 2000 05:07:00 -0700 (PDT)   \n",
       "\n",
       "                                                body  \n",
       "0                            Here is our forecast     \n",
       "1  Traveling to have a business meeting takes the...  \n",
       "2                     test successful.  way to go!!!  \n",
       "3  Randy,   Can you send me a schedule of the sal...  \n",
       "4                Let's shoot for Tuesday at 11:45.    "
      ]
     },
     "execution_count": 271,
     "metadata": {},
     "output_type": "execute_result"
    }
   ],
   "source": [
    "cleaned_data.head()"
   ]
  },
  {
   "cell_type": "code",
   "execution_count": 294,
   "metadata": {},
   "outputs": [
    {
     "name": "stderr",
     "output_type": "stream",
     "text": [
      "C:\\Users\\bechi\\AppData\\Local\\Temp\\ipykernel_4476\\2739242594.py:2: UserWarning: Could not infer format, so each element will be parsed individually, falling back to `dateutil`. To ensure parsing is consistent and as-expected, please specify a format.\n",
      "  cleaned_data[\"date\"]= pd.to_datetime(cleaned_data['date'], utc=True)\n"
     ]
    },
    {
     "name": "stdout",
     "output_type": "stream",
     "text": [
      "              from_address               to_address    subject  \\\n",
      "0  phillip.allen@enron.com     tim.belden@enron.com              \n",
      "1  phillip.allen@enron.com  john.lavorato@enron.com        Re:   \n",
      "2  phillip.allen@enron.com   leah.arsdall@enron.com   Re: test   \n",
      "3  phillip.allen@enron.com    randall.gay@enron.com              \n",
      "4  phillip.allen@enron.com     greg.piper@enron.com  Re: Hello   \n",
      "\n",
      "                       date                                               body  \n",
      "0 2001-05-14 23:39:00+00:00                            Here is our forecast     \n",
      "1 2001-05-04 20:51:00+00:00  Traveling to have a business meeting takes the...  \n",
      "2 2000-10-18 10:00:00+00:00                     test successful.  way to go!!!  \n",
      "3 2000-10-23 13:13:00+00:00  Randy,   Can you send me a schedule of the sal...  \n",
      "4 2000-08-31 12:07:00+00:00                Let's shoot for Tuesday at 11:45.    \n"
     ]
    }
   ],
   "source": [
    "cleaned_data['date'] = cleaned_data['date'].str.replace(r\"\\s\\([A-Z]{3}\\)\", \"\")\n",
    "cleaned_data[\"date\"]= pd.to_datetime(cleaned_data['date'], utc=True)\n",
    "print(cleaned_data.head())\n"
   ]
  },
  {
   "cell_type": "code",
   "execution_count": 295,
   "metadata": {},
   "outputs": [],
   "source": [
    "cleaned_data['year'] = cleaned_data['date'].dt.year \n",
    "cleaned_data['month'] = cleaned_data['date'].dt.month\n",
    "cleaned_data['day'] = cleaned_data['date'].dt.day\n",
    "cleaned_data['hour'] = cleaned_data['date'].dt.hour\n",
    "cleaned_data['minute'] = cleaned_data['date'].dt.minute\n",
    "cleaned_data['second'] = cleaned_data['date'].dt.second\n",
    "cleaned_data['day_of_week'] = cleaned_data['date'].dt.dayofweek\n",
    "cleaned_data['day_name'] = cleaned_data['date'].dt.day_name()"
   ]
  },
  {
   "cell_type": "code",
   "execution_count": 298,
   "metadata": {},
   "outputs": [
    {
     "data": {
      "text/html": [
       "<div>\n",
       "<style scoped>\n",
       "    .dataframe tbody tr th:only-of-type {\n",
       "        vertical-align: middle;\n",
       "    }\n",
       "\n",
       "    .dataframe tbody tr th {\n",
       "        vertical-align: top;\n",
       "    }\n",
       "\n",
       "    .dataframe thead th {\n",
       "        text-align: right;\n",
       "    }\n",
       "</style>\n",
       "<table border=\"1\" class=\"dataframe\">\n",
       "  <thead>\n",
       "    <tr style=\"text-align: right;\">\n",
       "      <th></th>\n",
       "      <th>from_address</th>\n",
       "      <th>to_address</th>\n",
       "      <th>subject</th>\n",
       "      <th>date</th>\n",
       "      <th>body</th>\n",
       "      <th>year</th>\n",
       "      <th>month</th>\n",
       "      <th>day</th>\n",
       "      <th>hour</th>\n",
       "      <th>minute</th>\n",
       "      <th>second</th>\n",
       "      <th>day_of_week</th>\n",
       "      <th>day_name</th>\n",
       "    </tr>\n",
       "  </thead>\n",
       "  <tbody>\n",
       "    <tr>\n",
       "      <th>0</th>\n",
       "      <td>phillip.allen@enron.com</td>\n",
       "      <td>tim.belden@enron.com</td>\n",
       "      <td></td>\n",
       "      <td>2001-05-14 23:39:00+00:00</td>\n",
       "      <td>Here is our forecast</td>\n",
       "      <td>2001</td>\n",
       "      <td>5</td>\n",
       "      <td>14</td>\n",
       "      <td>23</td>\n",
       "      <td>39</td>\n",
       "      <td>0</td>\n",
       "      <td>0</td>\n",
       "      <td>Monday</td>\n",
       "    </tr>\n",
       "    <tr>\n",
       "      <th>1</th>\n",
       "      <td>phillip.allen@enron.com</td>\n",
       "      <td>john.lavorato@enron.com</td>\n",
       "      <td>Re:</td>\n",
       "      <td>2001-05-04 20:51:00+00:00</td>\n",
       "      <td>Traveling to have a business meeting takes the...</td>\n",
       "      <td>2001</td>\n",
       "      <td>5</td>\n",
       "      <td>4</td>\n",
       "      <td>20</td>\n",
       "      <td>51</td>\n",
       "      <td>0</td>\n",
       "      <td>4</td>\n",
       "      <td>Friday</td>\n",
       "    </tr>\n",
       "    <tr>\n",
       "      <th>2</th>\n",
       "      <td>phillip.allen@enron.com</td>\n",
       "      <td>leah.arsdall@enron.com</td>\n",
       "      <td>Re: test</td>\n",
       "      <td>2000-10-18 10:00:00+00:00</td>\n",
       "      <td>test successful.  way to go!!!</td>\n",
       "      <td>2000</td>\n",
       "      <td>10</td>\n",
       "      <td>18</td>\n",
       "      <td>10</td>\n",
       "      <td>0</td>\n",
       "      <td>0</td>\n",
       "      <td>2</td>\n",
       "      <td>Wednesday</td>\n",
       "    </tr>\n",
       "    <tr>\n",
       "      <th>3</th>\n",
       "      <td>phillip.allen@enron.com</td>\n",
       "      <td>randall.gay@enron.com</td>\n",
       "      <td></td>\n",
       "      <td>2000-10-23 13:13:00+00:00</td>\n",
       "      <td>Randy,   Can you send me a schedule of the sal...</td>\n",
       "      <td>2000</td>\n",
       "      <td>10</td>\n",
       "      <td>23</td>\n",
       "      <td>13</td>\n",
       "      <td>13</td>\n",
       "      <td>0</td>\n",
       "      <td>0</td>\n",
       "      <td>Monday</td>\n",
       "    </tr>\n",
       "    <tr>\n",
       "      <th>4</th>\n",
       "      <td>phillip.allen@enron.com</td>\n",
       "      <td>greg.piper@enron.com</td>\n",
       "      <td>Re: Hello</td>\n",
       "      <td>2000-08-31 12:07:00+00:00</td>\n",
       "      <td>Let's shoot for Tuesday at 11:45.</td>\n",
       "      <td>2000</td>\n",
       "      <td>8</td>\n",
       "      <td>31</td>\n",
       "      <td>12</td>\n",
       "      <td>7</td>\n",
       "      <td>0</td>\n",
       "      <td>3</td>\n",
       "      <td>Thursday</td>\n",
       "    </tr>\n",
       "  </tbody>\n",
       "</table>\n",
       "</div>"
      ],
      "text/plain": [
       "              from_address               to_address    subject  \\\n",
       "0  phillip.allen@enron.com     tim.belden@enron.com              \n",
       "1  phillip.allen@enron.com  john.lavorato@enron.com        Re:   \n",
       "2  phillip.allen@enron.com   leah.arsdall@enron.com   Re: test   \n",
       "3  phillip.allen@enron.com    randall.gay@enron.com              \n",
       "4  phillip.allen@enron.com     greg.piper@enron.com  Re: Hello   \n",
       "\n",
       "                       date  \\\n",
       "0 2001-05-14 23:39:00+00:00   \n",
       "1 2001-05-04 20:51:00+00:00   \n",
       "2 2000-10-18 10:00:00+00:00   \n",
       "3 2000-10-23 13:13:00+00:00   \n",
       "4 2000-08-31 12:07:00+00:00   \n",
       "\n",
       "                                                body  year  month  day  hour  \\\n",
       "0                            Here is our forecast     2001      5   14    23   \n",
       "1  Traveling to have a business meeting takes the...  2001      5    4    20   \n",
       "2                     test successful.  way to go!!!  2000     10   18    10   \n",
       "3  Randy,   Can you send me a schedule of the sal...  2000     10   23    13   \n",
       "4                Let's shoot for Tuesday at 11:45.    2000      8   31    12   \n",
       "\n",
       "   minute  second  day_of_week   day_name  \n",
       "0      39       0            0     Monday  \n",
       "1      51       0            4     Friday  \n",
       "2       0       0            2  Wednesday  \n",
       "3      13       0            0     Monday  \n",
       "4       7       0            3   Thursday  "
      ]
     },
     "execution_count": 298,
     "metadata": {},
     "output_type": "execute_result"
    }
   ],
   "source": [
    "cleaned_data.head()"
   ]
  }
 ],
 "metadata": {
  "kernelspec": {
   "display_name": "Python 3",
   "language": "python",
   "name": "python3"
  },
  "language_info": {
   "codemirror_mode": {
    "name": "ipython",
    "version": 3
   },
   "file_extension": ".py",
   "mimetype": "text/x-python",
   "name": "python",
   "nbconvert_exporter": "python",
   "pygments_lexer": "ipython3",
   "version": "3.12.1"
  }
 },
 "nbformat": 4,
 "nbformat_minor": 2
}
