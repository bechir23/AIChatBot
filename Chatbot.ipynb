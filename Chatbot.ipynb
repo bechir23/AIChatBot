{
 "cells": [
  {
   "cell_type": "code",
   "execution_count": 83,
   "metadata": {},
   "outputs": [],
   "source": [
    "import pandas as pd\n",
    "import re\n",
    "from email import policy\n",
    "from email.parser import BytesParser\n",
    "from bs4 import BeautifulSoup\n",
    "from email import message_from_string\n"
   ]
  },
  {
   "cell_type": "code",
   "execution_count": 84,
   "metadata": {},
   "outputs": [],
   "source": [
    "data=pd.read_csv(\"C:/Users/bechi/OneDrive/Bureau/email_origin.csv\")"
   ]
  },
  {
   "cell_type": "code",
   "execution_count": 85,
   "metadata": {},
   "outputs": [],
   "source": [
    "\n",
    "def clean_email(email_str):\n",
    "    msg = message_from_string(email_str)\n",
    "    \n",
    "    from_address = msg.get('From')\n",
    "    to_address = msg.get('To')\n",
    "    subject = msg.get('Subject')\n",
    "    date = msg.get('Date')\n",
    "    body = \"\"   \n",
    "    if msg.is_multipart():\n",
    "        for part in msg.get_payload():\n",
    "            if part.get_content_type() == 'text/html':\n",
    "                html_content = part.get_payload()\n",
    "                soup = BeautifulSoup(html_content, \"html.parser\")\n",
    "                body = soup.get_text(separator=' ')\n",
    "                break\n",
    "    else:\n",
    "        body = msg.get_payload()\n",
    "    \n",
    "    return from_address, to_address, subject, date, body"
   ]
  },
  {
   "cell_type": "code",
   "execution_count": 86,
   "metadata": {},
   "outputs": [
    {
     "name": "stderr",
     "output_type": "stream",
     "text": [
      "C:\\Users\\bechi\\AppData\\Local\\Temp\\ipykernel_5392\\1626177188.py:13: MarkupResemblesLocatorWarning: The input looks more like a filename than markup. You may want to open this file and pass the filehandle into Beautiful Soup.\n",
      "  soup = BeautifulSoup(html_content, \"html.parser\")\n"
     ]
    }
   ],
   "source": [
    "cleaned_data = pd.DataFrame([clean_email(data[\"origin\"][i]) for i in range(len(data))], \n",
    "                            columns=['from_address', 'to_address', 'subject', 'date', 'body'])"
   ]
  },
  {
   "cell_type": "code",
   "execution_count": 87,
   "metadata": {},
   "outputs": [
    {
     "data": {
      "text/plain": [
       "from_address      0\n",
       "to_address      554\n",
       "subject         173\n",
       "date             25\n",
       "body              0\n",
       "dtype: int64"
      ]
     },
     "execution_count": 87,
     "metadata": {},
     "output_type": "execute_result"
    }
   ],
   "source": [
    "cleaned_data.isnull().sum()"
   ]
  },
  {
   "cell_type": "code",
   "execution_count": 88,
   "metadata": {},
   "outputs": [],
   "source": [
    "cleaned_data = cleaned_data.dropna()\n",
    "cleaned_data=cleaned_data[cleaned_data[\"body\"]!=\"\"]"
   ]
  },
  {
   "cell_type": "code",
   "execution_count": 89,
   "metadata": {},
   "outputs": [
    {
     "data": {
      "text/html": [
       "<div>\n",
       "<style scoped>\n",
       "    .dataframe tbody tr th:only-of-type {\n",
       "        vertical-align: middle;\n",
       "    }\n",
       "\n",
       "    .dataframe tbody tr th {\n",
       "        vertical-align: top;\n",
       "    }\n",
       "\n",
       "    .dataframe thead th {\n",
       "        text-align: right;\n",
       "    }\n",
       "</style>\n",
       "<table border=\"1\" class=\"dataframe\">\n",
       "  <thead>\n",
       "    <tr style=\"text-align: right;\">\n",
       "      <th></th>\n",
       "      <th>from_address</th>\n",
       "      <th>to_address</th>\n",
       "      <th>subject</th>\n",
       "      <th>date</th>\n",
       "      <th>body</th>\n",
       "    </tr>\n",
       "  </thead>\n",
       "  <tbody>\n",
       "    <tr>\n",
       "      <th>0</th>\n",
       "      <td>\"Tomas Jacobs\" &lt;RickyAmes@aol.com&gt;</td>\n",
       "      <td>the00@speedy.uwaterloo.ca</td>\n",
       "      <td>Generic Cialis, branded quality@</td>\n",
       "      <td>Sun, 08 Apr 2007 21:00:48 +0300</td>\n",
       "      <td>\\n \\n \\n \\n \\n \\n \\nDo you feel the pressure t...</td>\n",
       "    </tr>\n",
       "    <tr>\n",
       "      <th>1</th>\n",
       "      <td>Yan Morin &lt;yan.morin@savoirfairelinux.com&gt;</td>\n",
       "      <td>debian-mirrors@lists.debian.org</td>\n",
       "      <td>Typo in /debian/README</td>\n",
       "      <td>Sun, 08 Apr 2007 12:52:30 -0400</td>\n",
       "      <td>Hi, i've just updated from the gulus and I che...</td>\n",
       "    </tr>\n",
       "    <tr>\n",
       "      <th>2</th>\n",
       "      <td>\"Sheila Crenshaw\" &lt;7stocknews@tractionmarketin...</td>\n",
       "      <td>&lt;the00@plg.uwaterloo.ca&gt;</td>\n",
       "      <td>authentic viagra</td>\n",
       "      <td>Sun, 8 Apr 2007 17:12:19 +0000</td>\n",
       "      <td>authentic viagra \\n \\nMega  authentic V I A G ...</td>\n",
       "    </tr>\n",
       "    <tr>\n",
       "      <th>3</th>\n",
       "      <td>\"Stormy Dempsey\" &lt;vqucsmdfgvsg@ruraltek.com&gt;</td>\n",
       "      <td>opt4@speedy.uwaterloo.ca</td>\n",
       "      <td>Nice talking with ya</td>\n",
       "      <td>Sun, 08 Apr 2007 17:15:47 -0100</td>\n",
       "      <td>\\nHey Billy, \\n\\nit was really fun going out t...</td>\n",
       "    </tr>\n",
       "    <tr>\n",
       "      <th>6</th>\n",
       "      <td>\"B.J. Badisang\" &lt;mitigatemicroprocessor@g-rich...</td>\n",
       "      <td>&lt;theorize@plg.uwaterloo.ca&gt;</td>\n",
       "      <td>For Theorize</td>\n",
       "      <td>Sun, 8 Apr 2007 17:19:08 +0480</td>\n",
       "      <td>\\n \\n \\n \\n \\n \\n \\n Glad to see you! \\n Look ...</td>\n",
       "    </tr>\n",
       "  </tbody>\n",
       "</table>\n",
       "</div>"
      ],
      "text/plain": [
       "                                        from_address  \\\n",
       "0                 \"Tomas Jacobs\" <RickyAmes@aol.com>   \n",
       "1         Yan Morin <yan.morin@savoirfairelinux.com>   \n",
       "2  \"Sheila Crenshaw\" <7stocknews@tractionmarketin...   \n",
       "3       \"Stormy Dempsey\" <vqucsmdfgvsg@ruraltek.com>   \n",
       "6  \"B.J. Badisang\" <mitigatemicroprocessor@g-rich...   \n",
       "\n",
       "                        to_address                            subject  \\\n",
       "0        the00@speedy.uwaterloo.ca  Generic Cialis, branded quality@    \n",
       "1  debian-mirrors@lists.debian.org             Typo in /debian/README   \n",
       "2         <the00@plg.uwaterloo.ca>                   authentic viagra   \n",
       "3         opt4@speedy.uwaterloo.ca               Nice talking with ya   \n",
       "6      <theorize@plg.uwaterloo.ca>                       For Theorize   \n",
       "\n",
       "                              date  \\\n",
       "0  Sun, 08 Apr 2007 21:00:48 +0300   \n",
       "1  Sun, 08 Apr 2007 12:52:30 -0400   \n",
       "2   Sun, 8 Apr 2007 17:12:19 +0000   \n",
       "3  Sun, 08 Apr 2007 17:15:47 -0100   \n",
       "6   Sun, 8 Apr 2007 17:19:08 +0480   \n",
       "\n",
       "                                                body  \n",
       "0  \\n \\n \\n \\n \\n \\n \\nDo you feel the pressure t...  \n",
       "1  Hi, i've just updated from the gulus and I che...  \n",
       "2  authentic viagra \\n \\nMega  authentic V I A G ...  \n",
       "3  \\nHey Billy, \\n\\nit was really fun going out t...  \n",
       "6  \\n \\n \\n \\n \\n \\n \\n Glad to see you! \\n Look ...  "
      ]
     },
     "execution_count": 89,
     "metadata": {},
     "output_type": "execute_result"
    }
   ],
   "source": [
    "cleaned_data.head()"
   ]
  },
  {
   "cell_type": "code",
   "execution_count": 90,
   "metadata": {},
   "outputs": [
    {
     "name": "stdout",
     "output_type": "stream",
     "text": [
      "507\n"
     ]
    }
   ],
   "source": [
    "duplicated_rows = cleaned_data.duplicated()\n",
    "print(duplicated_rows.sum())\n",
    "cleaned_data = cleaned_data.drop_duplicates()"
   ]
  },
  {
   "cell_type": "code",
   "execution_count": 91,
   "metadata": {},
   "outputs": [],
   "source": [
    "def extract_email(email_str):\n",
    "   left=''\n",
    "   right=''\n",
    "   email='@'\n",
    "   if ('@' in email_str):\n",
    "         left, right = email_str.split('@', 1)    \n",
    "         for i in right:\n",
    "                        if i.isalnum() or i=='.':\n",
    "                            email+=i\n",
    "                        else:\n",
    "                            break\n",
    "         for i in left[::-1]:\n",
    "                        if i.isalnum() or i=='.':\n",
    "                            email=i+email\n",
    "                        else:\n",
    "                            break      \n",
    "    \n",
    "   return email  \n"
   ]
  },
  {
   "cell_type": "code",
   "execution_count": 92,
   "metadata": {},
   "outputs": [],
   "source": [
    "cleaned_data['from_address'] = cleaned_data['from_address'].apply(extract_email)\n",
    "cleaned_data['to_address'] = cleaned_data['to_address'].apply(extract_email)"
   ]
  },
  {
   "cell_type": "code",
   "execution_count": 93,
   "metadata": {},
   "outputs": [
    {
     "name": "stdout",
     "output_type": "stream",
     "text": [
      "2115\n",
      "315210\n"
     ]
    },
    {
     "data": {
      "text/plain": [
       "['Sun,', '08', 'Apr', '2007', '21:00:48', '+0300']"
      ]
     },
     "execution_count": 93,
     "metadata": {},
     "output_type": "execute_result"
    }
   ],
   "source": [
    "print(cleaned_data[(cleaned_data['from_address'] == '@') | (cleaned_data['to_address'] == '@')].size)\n",
    "cleaned_data = cleaned_data[(cleaned_data['from_address'] != '@') & (cleaned_data['to_address'] != '@')]\n",
    "print(cleaned_data.size)\n",
    "cleaned_data[\"date\"][0].split(\" \")"
   ]
  },
  {
   "cell_type": "code",
   "execution_count": 94,
   "metadata": {},
   "outputs": [
    {
     "name": "stdout",
     "output_type": "stream",
     "text": [
      "306885\n",
      "61377\n"
     ]
    }
   ],
   "source": [
    "print(cleaned_data[cleaned_data['date'].str[3] == ','].size)\n",
    "cleaned_data = cleaned_data[cleaned_data['date'].str[3] == ',']\n",
    "print(len(cleaned_data))"
   ]
  },
  {
   "cell_type": "code",
   "execution_count": 101,
   "metadata": {},
   "outputs": [],
   "source": [
    "def months():\n",
    "    month=[]\n",
    "    a=[]\n",
    "    count=0\n",
    "    for date in cleaned_data['date']:\n",
    "        day, subdate = date.split(',')\n",
    "        if day=='':count += count\n",
    "        subdate = subdate.split(' ')\n",
    "        if(len(subdate)>6) |(len(subdate)<5):count += count\n",
    "        if(len(subdate)==5)|(len(subdate)==6):\n",
    "            if not subdate[2].isalpha():\n",
    "               a.append(date)\n",
    "            if(subdate[2]) not in month:\n",
    "              month.append(subdate[2])\n",
    "    print(month)  \n",
    "    print(count)  \n",
    "    return a"
   ]
  },
  {
   "cell_type": "code",
   "execution_count": 102,
   "metadata": {},
   "outputs": [
    {
     "name": "stdout",
     "output_type": "stream",
     "text": [
      "['Apr', 'Mar', 'Feb', 'May', 'Jan', 'Oct', 'Jun', 'Dec', 'Jul', 'Sep', 'Nov', 'Aug']\n",
      "0\n",
      "[]\n"
     ]
    }
   ],
   "source": [
    "a=months()\n",
    "print(a)"
   ]
  },
  {
   "cell_type": "code",
   "execution_count": 97,
   "metadata": {},
   "outputs": [
    {
     "name": "stdout",
     "output_type": "stream",
     "text": [
      "60705\n"
     ]
    }
   ],
   "source": [
    "cleaned_data = cleaned_data[cleaned_data[\"date\"].apply(lambda x: x.split(',')[1].split(' ')[2] in ['Apr', 'Mar', 'Feb', 'May', 'Jan', 'Oct', 'Jun', 'Dec', 'Jul', 'Sep', 'Nov', 'Aug'])]\n",
    "print(len(cleaned_data))"
   ]
  },
  {
   "cell_type": "code",
   "execution_count": 1,
   "metadata": {},
   "outputs": [
    {
     "ename": "NameError",
     "evalue": "name 'cleaned_data' is not defined",
     "output_type": "error",
     "traceback": [
      "\u001b[1;31m---------------------------------------------------------------------------\u001b[0m",
      "\u001b[1;31mNameError\u001b[0m                                 Traceback (most recent call last)",
      "Cell \u001b[1;32mIn[1], line 1\u001b[0m\n\u001b[1;32m----> 1\u001b[0m \u001b[38;5;28mprint\u001b[39m(\u001b[43mcleaned_data\u001b[49m[cleaned_data[\u001b[38;5;124m'\u001b[39m\u001b[38;5;124mdate\u001b[39m\u001b[38;5;124m'\u001b[39m]\u001b[38;5;241m.\u001b[39mapply(\u001b[38;5;28;01mlambda\u001b[39;00m x: \u001b[38;5;28mlen\u001b[39m(x\u001b[38;5;241m.\u001b[39msplit(\u001b[38;5;124m'\u001b[39m\u001b[38;5;124m,\u001b[39m\u001b[38;5;124m'\u001b[39m)[\u001b[38;5;241m1\u001b[39m]\u001b[38;5;241m.\u001b[39msplit(\u001b[38;5;124m'\u001b[39m\u001b[38;5;124m \u001b[39m\u001b[38;5;124m'\u001b[39m)) \u001b[38;5;241m==\u001b[39m \u001b[38;5;241m6\u001b[39m)]\u001b[38;5;241m.\u001b[39msum())\n",
      "\u001b[1;31mNameError\u001b[0m: name 'cleaned_data' is not defined"
     ]
    }
   ],
   "source": [
    "print(cleaned_data[cleaned_data['date'].apply(lambda x: len(x.split(',')[1].split(' ')) == 6)].sum())"
   ]
  }
 ],
 "metadata": {
  "kernelspec": {
   "display_name": "Python 3",
   "language": "python",
   "name": "python3"
  },
  "language_info": {
   "codemirror_mode": {
    "name": "ipython",
    "version": 3
   },
   "file_extension": ".py",
   "mimetype": "text/x-python",
   "name": "python",
   "nbconvert_exporter": "python",
   "pygments_lexer": "ipython3",
   "version": "3.12.1"
  }
 },
 "nbformat": 4,
 "nbformat_minor": 2
}
