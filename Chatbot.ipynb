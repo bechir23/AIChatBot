{
 "cells": [
  {
   "cell_type": "code",
   "execution_count": 3,
   "metadata": {},
   "outputs": [
    {
     "name": "stderr",
     "output_type": "stream",
     "text": [
      "C:\\Users\\bechi\\AppData\\Local\\Temp\\ipykernel_19692\\3697222624.py:1: DeprecationWarning: \n",
      "Pyarrow will become a required dependency of pandas in the next major release of pandas (pandas 3.0),\n",
      "(to allow more performant data types, such as the Arrow string type, and better interoperability with other libraries)\n",
      "but was not found to be installed on your system.\n",
      "If this would cause problems for you,\n",
      "please provide us feedback at https://github.com/pandas-dev/pandas/issues/54466\n",
      "        \n",
      "  import pandas as pd\n"
     ]
    }
   ],
   "source": [
    "import pandas as pd\n",
    "import re\n",
    "from email import policy\n",
    "from email.parser import BytesParser\n",
    "from bs4 import BeautifulSoup\n",
    "from email import message_from_string\n"
   ]
  },
  {
   "cell_type": "code",
   "execution_count": 4,
   "metadata": {},
   "outputs": [],
   "source": [
    "data = pd.read_csv(\"C:/Users/bechi/Downloads/archive/emails.csv\", nrows=70000)"
   ]
  },
  {
   "cell_type": "code",
   "execution_count": 5,
   "metadata": {},
   "outputs": [
    {
     "data": {
      "text/plain": [
       "\"Message-ID: <18782981.1075855378110.JavaMail.evans@thyme>\\nDate: Mon, 14 May 2001 16:39:00 -0700 (PDT)\\nFrom: phillip.allen@enron.com\\nTo: tim.belden@enron.com\\nSubject: \\nMime-Version: 1.0\\nContent-Type: text/plain; charset=us-ascii\\nContent-Transfer-Encoding: 7bit\\nX-From: Phillip K Allen\\nX-To: Tim Belden <Tim Belden/Enron@EnronXGate>\\nX-cc: \\nX-bcc: \\nX-Folder: \\\\Phillip_Allen_Jan2002_1\\\\Allen, Phillip K.\\\\'Sent Mail\\nX-Origin: Allen-P\\nX-FileName: pallen (Non-Privileged).pst\\n\\nHere is our forecast\\n\\n \""
      ]
     },
     "execution_count": 5,
     "metadata": {},
     "output_type": "execute_result"
    }
   ],
   "source": [
    "data['message'][0]\n"
   ]
  },
  {
   "cell_type": "markdown",
   "metadata": {},
   "source": []
  },
  {
   "cell_type": "code",
   "execution_count": 6,
   "metadata": {},
   "outputs": [],
   "source": [
    "\n",
    "def clean_email(email_str):\n",
    "    msg = message_from_string(email_str)\n",
    "    \n",
    "    from_address = msg.get('From')\n",
    "    to_address = msg.get('To')\n",
    "    subject = msg.get('Subject')\n",
    "    date = msg.get('Date')\n",
    "    body = \"\"   \n",
    "    if msg.is_multipart():\n",
    "        for part in msg.get_payload():\n",
    "            if part.get_content_type() == 'text/html':\n",
    "                html_content = part.get_payload()\n",
    "                soup = BeautifulSoup(html_content, \"html.parser\")\n",
    "                body = soup.get_text(separator=' ')\n",
    "                break\n",
    "    else:\n",
    "        body = msg.get_payload()\n",
    "    \n",
    "    return from_address, to_address, subject, date, body"
   ]
  },
  {
   "cell_type": "code",
   "execution_count": 7,
   "metadata": {},
   "outputs": [],
   "source": [
    "cleaned_data = pd.DataFrame([clean_email(data[\"message\"][i]) for i in range(len(data))], \n",
    "                            columns=['from_address', 'to_address', 'subject', 'date', 'body'])"
   ]
  },
  {
   "cell_type": "code",
   "execution_count": 8,
   "metadata": {},
   "outputs": [
    {
     "data": {
      "text/plain": [
       "from_address       0\n",
       "to_address      3857\n",
       "subject            0\n",
       "date               0\n",
       "body               0\n",
       "dtype: int64"
      ]
     },
     "execution_count": 8,
     "metadata": {},
     "output_type": "execute_result"
    }
   ],
   "source": [
    "cleaned_data.isnull().sum()"
   ]
  },
  {
   "cell_type": "code",
   "execution_count": 9,
   "metadata": {},
   "outputs": [],
   "source": [
    "cleaned_data = cleaned_data.dropna()\n",
    "cleaned_data=cleaned_data[cleaned_data[\"body\"]!=\"\"]"
   ]
  },
  {
   "cell_type": "code",
   "execution_count": 10,
   "metadata": {},
   "outputs": [
    {
     "data": {
      "text/html": [
       "<div>\n",
       "<style scoped>\n",
       "    .dataframe tbody tr th:only-of-type {\n",
       "        vertical-align: middle;\n",
       "    }\n",
       "\n",
       "    .dataframe tbody tr th {\n",
       "        vertical-align: top;\n",
       "    }\n",
       "\n",
       "    .dataframe thead th {\n",
       "        text-align: right;\n",
       "    }\n",
       "</style>\n",
       "<table border=\"1\" class=\"dataframe\">\n",
       "  <thead>\n",
       "    <tr style=\"text-align: right;\">\n",
       "      <th></th>\n",
       "      <th>from_address</th>\n",
       "      <th>to_address</th>\n",
       "      <th>subject</th>\n",
       "      <th>date</th>\n",
       "      <th>body</th>\n",
       "    </tr>\n",
       "  </thead>\n",
       "  <tbody>\n",
       "    <tr>\n",
       "      <th>0</th>\n",
       "      <td>phillip.allen@enron.com</td>\n",
       "      <td>tim.belden@enron.com</td>\n",
       "      <td></td>\n",
       "      <td>Mon, 14 May 2001 16:39:00 -0700 (PDT)</td>\n",
       "      <td>Here is our forecast\\n\\n</td>\n",
       "    </tr>\n",
       "    <tr>\n",
       "      <th>1</th>\n",
       "      <td>phillip.allen@enron.com</td>\n",
       "      <td>john.lavorato@enron.com</td>\n",
       "      <td>Re:</td>\n",
       "      <td>Fri, 4 May 2001 13:51:00 -0700 (PDT)</td>\n",
       "      <td>Traveling to have a business meeting takes the...</td>\n",
       "    </tr>\n",
       "    <tr>\n",
       "      <th>2</th>\n",
       "      <td>phillip.allen@enron.com</td>\n",
       "      <td>leah.arsdall@enron.com</td>\n",
       "      <td>Re: test</td>\n",
       "      <td>Wed, 18 Oct 2000 03:00:00 -0700 (PDT)</td>\n",
       "      <td>test successful.  way to go!!!</td>\n",
       "    </tr>\n",
       "    <tr>\n",
       "      <th>3</th>\n",
       "      <td>phillip.allen@enron.com</td>\n",
       "      <td>randall.gay@enron.com</td>\n",
       "      <td></td>\n",
       "      <td>Mon, 23 Oct 2000 06:13:00 -0700 (PDT)</td>\n",
       "      <td>Randy,\\n\\n Can you send me a schedule of the s...</td>\n",
       "    </tr>\n",
       "    <tr>\n",
       "      <th>4</th>\n",
       "      <td>phillip.allen@enron.com</td>\n",
       "      <td>greg.piper@enron.com</td>\n",
       "      <td>Re: Hello</td>\n",
       "      <td>Thu, 31 Aug 2000 05:07:00 -0700 (PDT)</td>\n",
       "      <td>Let's shoot for Tuesday at 11:45.</td>\n",
       "    </tr>\n",
       "  </tbody>\n",
       "</table>\n",
       "</div>"
      ],
      "text/plain": [
       "              from_address               to_address    subject  \\\n",
       "0  phillip.allen@enron.com     tim.belden@enron.com              \n",
       "1  phillip.allen@enron.com  john.lavorato@enron.com        Re:   \n",
       "2  phillip.allen@enron.com   leah.arsdall@enron.com   Re: test   \n",
       "3  phillip.allen@enron.com    randall.gay@enron.com              \n",
       "4  phillip.allen@enron.com     greg.piper@enron.com  Re: Hello   \n",
       "\n",
       "                                    date  \\\n",
       "0  Mon, 14 May 2001 16:39:00 -0700 (PDT)   \n",
       "1   Fri, 4 May 2001 13:51:00 -0700 (PDT)   \n",
       "2  Wed, 18 Oct 2000 03:00:00 -0700 (PDT)   \n",
       "3  Mon, 23 Oct 2000 06:13:00 -0700 (PDT)   \n",
       "4  Thu, 31 Aug 2000 05:07:00 -0700 (PDT)   \n",
       "\n",
       "                                                body  \n",
       "0                          Here is our forecast\\n\\n   \n",
       "1  Traveling to have a business meeting takes the...  \n",
       "2                     test successful.  way to go!!!  \n",
       "3  Randy,\\n\\n Can you send me a schedule of the s...  \n",
       "4                Let's shoot for Tuesday at 11:45.    "
      ]
     },
     "execution_count": 10,
     "metadata": {},
     "output_type": "execute_result"
    }
   ],
   "source": [
    "cleaned_data.head()"
   ]
  },
  {
   "cell_type": "code",
   "execution_count": 11,
   "metadata": {},
   "outputs": [
    {
     "name": "stdout",
     "output_type": "stream",
     "text": [
      "24546\n"
     ]
    },
    {
     "data": {
      "text/plain": [
       "41597"
      ]
     },
     "execution_count": 11,
     "metadata": {},
     "output_type": "execute_result"
    }
   ],
   "source": [
    "duplicated_rows = cleaned_data.duplicated()\n",
    "print(duplicated_rows.sum())\n",
    "cleaned_data = cleaned_data.drop_duplicates()\n",
    "len(cleaned_data)"
   ]
  },
  {
   "cell_type": "code",
   "execution_count": 12,
   "metadata": {},
   "outputs": [],
   "source": [
    "  \n",
    "def extract_email(email_str):\n",
    "    left = ''\n",
    "    right = ''\n",
    "    email = '@'\n",
    "    \n",
    "    if '@' in email_str:\n",
    "        left, right = email_str.split('@', 1)\n",
    "        \n",
    "        \n",
    "        \n",
    "        for i in right:\n",
    "            if i.isalnum() or (i == '.' and right[0] != '.'):\n",
    "                email += i\n",
    "            else:\n",
    "                break\n",
    "                \n",
    "        for i in left[::-1]:\n",
    "            if i.isalnum() or (i == '.' and left[-1] != '.'):\n",
    "                email = i + email\n",
    "            else:\n",
    "                break      \n",
    "    \n",
    "    return email\n"
   ]
  },
  {
   "cell_type": "code",
   "execution_count": 13,
   "metadata": {},
   "outputs": [],
   "source": [
    "cleaned_data['from_address'] = cleaned_data['from_address'].apply(extract_email)\n",
    "cleaned_data['to_address'] = cleaned_data['to_address'].apply(extract_email)"
   ]
  },
  {
   "cell_type": "code",
   "execution_count": 23,
   "metadata": {},
   "outputs": [
    {
     "name": "stdout",
     "output_type": "stream",
     "text": [
      "Empty DataFrame\n",
      "Columns: [from_address, to_address, subject, date, body]\n",
      "Index: []\n",
      "41432\n"
     ]
    },
    {
     "data": {
      "text/plain": [
       "['Mon,', '14', 'May', '2001', '16:39:00', '-0700', '(PDT)']"
      ]
     },
     "execution_count": 23,
     "metadata": {},
     "output_type": "execute_result"
    }
   ],
   "source": [
    "print(cleaned_data[(cleaned_data['from_address'] == '@') | (cleaned_data['to_address'] == '@')])\n",
    "cleaned_data = cleaned_data[(cleaned_data['from_address'] != '@') & (cleaned_data['to_address'] != '@')]\n",
    "cleaned_data = cleaned_data[~(cleaned_data['from_address'].str.startswith('.') | cleaned_data['from_address'].str.endswith('.'))]\n",
    "cleaned_data=cleaned_data[~(cleaned_data['to_address'].str.startswith('.') | cleaned_data['to_address'].str.endswith('.'))]\n",
    "print(len(cleaned_data))\n",
    "cleaned_data[\"date\"][0].split(\" \")"
   ]
  },
  {
   "cell_type": "code",
   "execution_count": 15,
   "metadata": {},
   "outputs": [
    {
     "name": "stdout",
     "output_type": "stream",
     "text": [
      "41591\n",
      "41591\n"
     ]
    }
   ],
   "source": [
    "print(len(cleaned_data[cleaned_data['date'].str[3] == ',']))\n",
    "cleaned_data = cleaned_data[cleaned_data['date'].str[3] == ',']\n",
    "print(len(cleaned_data))"
   ]
  },
  {
   "cell_type": "code",
   "execution_count": 16,
   "metadata": {},
   "outputs": [],
   "source": [
    "def months():\n",
    "    month=[]\n",
    "    a=[]\n",
    "    count=0\n",
    "    for date in cleaned_data['date']:\n",
    "        day, subdate = date.split(',')\n",
    "        if day=='':count += count\n",
    "        subdate = subdate.split(' ')\n",
    "        if(len(subdate)>7) |(len(subdate)<7):count += count\n",
    "        if (len(subdate)==7): \n",
    "             if not subdate[2].isalpha():\n",
    "               a.append(date)\n",
    "             if(subdate[2]) not in month:\n",
    "              month.append(subdate[2])\n",
    "    print(month)  \n",
    "    print(count)  \n",
    "    return a"
   ]
  },
  {
   "cell_type": "code",
   "execution_count": 17,
   "metadata": {},
   "outputs": [
    {
     "name": "stdout",
     "output_type": "stream",
     "text": [
      "['May', 'Oct', 'Aug', 'Jul', 'Sep', 'Apr', 'Jun', 'Mar', 'Feb', 'Jan', 'Dec', 'Nov']\n",
      "0\n",
      "[]\n"
     ]
    }
   ],
   "source": [
    "a=months()\n",
    "print(a)"
   ]
  },
  {
   "cell_type": "code",
   "execution_count": 18,
   "metadata": {},
   "outputs": [
    {
     "name": "stdout",
     "output_type": "stream",
     "text": [
      "5596\n",
      "7076\n"
     ]
    }
   ],
   "source": [
    "prefixes = ['re:', 'RE:', 'rE:']\n",
    "\n",
    "filtered_data = cleaned_data[cleaned_data['subject'].apply(lambda x: any(x.startswith(prefix) for prefix in prefixes))]\n",
    "print(len(filtered_data))\n",
    "print(len(cleaned_data[cleaned_data['subject'].str.startswith('Re:')]))\n"
   ]
  },
  {
   "cell_type": "code",
   "execution_count": 19,
   "metadata": {},
   "outputs": [],
   "source": [
    "def clean_subject(subject):\n",
    "    prefixes = ['re:', 'RE:', 'rE:']\n",
    "\n",
    "\n",
    "    for prefix in prefixes:\n",
    "        if subject.startswith(prefix):\n",
    "            subject = subject.replace(prefix, 'Re:', 1)\n",
    "            break\n",
    "    prefixes = ['Fw:']\n",
    "\n",
    "    for prefix in prefixes:\n",
    "        if subject.startswith(prefix):\n",
    "            subject = subject.replace(prefix, 'FW:', 1)\n",
    "            break\n",
    "    return subject\n"
   ]
  },
  {
   "cell_type": "code",
   "execution_count": 20,
   "metadata": {},
   "outputs": [
    {
     "name": "stdout",
     "output_type": "stream",
     "text": [
      "41586\n"
     ]
    }
   ],
   "source": [
    "prefixes = ['fWD:',  'FwD:', 'fWd:', 'FWd:', 'FWD:', 'fwD:','fwd:','fW']\n",
    "cleaned_data = cleaned_data[~cleaned_data['subject'].apply(lambda x: any(x.startswith(prefix) for prefix in prefixes))]\n",
    "print(len(cleaned_data))"
   ]
  },
  {
   "cell_type": "code",
   "execution_count": 21,
   "metadata": {},
   "outputs": [
    {
     "data": {
      "text/plain": [
       "41586"
      ]
     },
     "execution_count": 21,
     "metadata": {},
     "output_type": "execute_result"
    }
   ],
   "source": [
    "cleaned_data['subject'] = cleaned_data['subject'].apply(clean_subject)\n",
    "len(cleaned_data)"
   ]
  },
  {
   "cell_type": "code",
   "execution_count": 24,
   "metadata": {},
   "outputs": [
    {
     "data": {
      "text/html": [
       "<div>\n",
       "<style scoped>\n",
       "    .dataframe tbody tr th:only-of-type {\n",
       "        vertical-align: middle;\n",
       "    }\n",
       "\n",
       "    .dataframe tbody tr th {\n",
       "        vertical-align: top;\n",
       "    }\n",
       "\n",
       "    .dataframe thead th {\n",
       "        text-align: right;\n",
       "    }\n",
       "</style>\n",
       "<table border=\"1\" class=\"dataframe\">\n",
       "  <thead>\n",
       "    <tr style=\"text-align: right;\">\n",
       "      <th></th>\n",
       "      <th>from_address</th>\n",
       "      <th>to_address</th>\n",
       "      <th>subject</th>\n",
       "      <th>date</th>\n",
       "      <th>body</th>\n",
       "    </tr>\n",
       "  </thead>\n",
       "  <tbody>\n",
       "    <tr>\n",
       "      <th>69985</th>\n",
       "      <td>ichen@haas.berkeley.edu</td>\n",
       "      <td>social@haas.berkeley.edu</td>\n",
       "      <td>Stanford University survey about terrorist att...</td>\n",
       "      <td>Tue, 2 Oct 2001 21:30:07 -0700 (PDT)</td>\n",
       "      <td>Hi all\\n\\nThis is an interesting study being c...</td>\n",
       "    </tr>\n",
       "    <tr>\n",
       "      <th>69986</th>\n",
       "      <td>lisa.mellencamp@enron.com</td>\n",
       "      <td>michael.tribolet@enron.com</td>\n",
       "      <td>sce-urgent</td>\n",
       "      <td>Tue, 2 Oct 2001 22:14:57 -0700 (PDT)</td>\n",
       "      <td>reliant guy, mike jines, called me about the d...</td>\n",
       "    </tr>\n",
       "    <tr>\n",
       "      <th>69988</th>\n",
       "      <td>robert.frank@enron.com</td>\n",
       "      <td>jeff.dasovich@enron.com</td>\n",
       "      <td>FW: FERC refund investigation into Pacific Nor...</td>\n",
       "      <td>Wed, 3 Oct 2001 03:50:24 -0700 (PDT)</td>\n",
       "      <td>Hey Jeff -see memo attached; it contains good ...</td>\n",
       "    </tr>\n",
       "    <tr>\n",
       "      <th>69990</th>\n",
       "      <td>bryan.gottfredson@enron.com</td>\n",
       "      <td>janine.migden@enron.com</td>\n",
       "      <td>URM Positions for OCT.</td>\n",
       "      <td>Wed, 3 Oct 2001 07:26:56 -0700 (PDT)</td>\n",
       "      <td>Colleagues:\\n\\n\\tUtility Risk management posit...</td>\n",
       "    </tr>\n",
       "    <tr>\n",
       "      <th>69991</th>\n",
       "      <td>michael.tribolet@enron.com</td>\n",
       "      <td>jeff.dasovich@enron.com</td>\n",
       "      <td>FW: Lay It On the Line Survey Results</td>\n",
       "      <td>Wed, 3 Oct 2001 07:29:25 -0700 (PDT)</td>\n",
       "      <td>\\n\\n -----Original Message-----\\nFrom: \\tEnron...</td>\n",
       "    </tr>\n",
       "    <tr>\n",
       "      <th>69993</th>\n",
       "      <td>alan.comnes@enron.com</td>\n",
       "      <td>tom.alonso@enron.com</td>\n",
       "      <td>Mark to Market of DWR Contracts</td>\n",
       "      <td>Wed, 3 Oct 2001 10:46:31 -0700 (PDT)</td>\n",
       "      <td>Tim asked me to forward this to West Desk trad...</td>\n",
       "    </tr>\n",
       "    <tr>\n",
       "      <th>69995</th>\n",
       "      <td>john.shelk@enron.com</td>\n",
       "      <td>j..kean@enron.com</td>\n",
       "      <td>New Congressional Report on California</td>\n",
       "      <td>Wed, 3 Oct 2001 12:11:47 -0700 (PDT)</td>\n",
       "      <td>\\n\\nRay Alvarez brought to my attention today ...</td>\n",
       "    </tr>\n",
       "    <tr>\n",
       "      <th>69996</th>\n",
       "      <td>alan.comnes@enron.com</td>\n",
       "      <td>jeff.dasovich@enron.com</td>\n",
       "      <td>Re: Mark to Market of DWR Contracts</td>\n",
       "      <td>Wed, 3 Oct 2001 13:07:21 -0700 (PDT)</td>\n",
       "      <td>Mo, please speak up if I got this wrong.\\n\\nTh...</td>\n",
       "    </tr>\n",
       "    <tr>\n",
       "      <th>69997</th>\n",
       "      <td>d..steffes@enron.com</td>\n",
       "      <td>jeff.dasovich@enron.com</td>\n",
       "      <td>FW: SCE Settlement</td>\n",
       "      <td>Wed, 3 Oct 2001 13:08:33 -0700 (PDT)</td>\n",
       "      <td>\\nJeff --\\n\\nHow about a call tomorrow to disc...</td>\n",
       "    </tr>\n",
       "    <tr>\n",
       "      <th>69998</th>\n",
       "      <td>susan.mara@enron.com</td>\n",
       "      <td>d..steffes@enron.com</td>\n",
       "      <td>FW: CAISO Notice - Temporary Suspension of Pre...</td>\n",
       "      <td>Wed, 5 Sep 2001 11:42:30 -0700 (PDT)</td>\n",
       "      <td>Here is the ultimate indignity.  just talked t...</td>\n",
       "    </tr>\n",
       "  </tbody>\n",
       "</table>\n",
       "</div>"
      ],
      "text/plain": [
       "                      from_address                  to_address  \\\n",
       "69985      ichen@haas.berkeley.edu    social@haas.berkeley.edu   \n",
       "69986    lisa.mellencamp@enron.com  michael.tribolet@enron.com   \n",
       "69988       robert.frank@enron.com     jeff.dasovich@enron.com   \n",
       "69990  bryan.gottfredson@enron.com     janine.migden@enron.com   \n",
       "69991   michael.tribolet@enron.com     jeff.dasovich@enron.com   \n",
       "69993        alan.comnes@enron.com        tom.alonso@enron.com   \n",
       "69995         john.shelk@enron.com           j..kean@enron.com   \n",
       "69996        alan.comnes@enron.com     jeff.dasovich@enron.com   \n",
       "69997         d..steffes@enron.com     jeff.dasovich@enron.com   \n",
       "69998         susan.mara@enron.com        d..steffes@enron.com   \n",
       "\n",
       "                                                 subject  \\\n",
       "69985  Stanford University survey about terrorist att...   \n",
       "69986                                         sce-urgent   \n",
       "69988  FW: FERC refund investigation into Pacific Nor...   \n",
       "69990                             URM Positions for OCT.   \n",
       "69991              FW: Lay It On the Line Survey Results   \n",
       "69993                    Mark to Market of DWR Contracts   \n",
       "69995             New Congressional Report on California   \n",
       "69996                Re: Mark to Market of DWR Contracts   \n",
       "69997                                 FW: SCE Settlement   \n",
       "69998  FW: CAISO Notice - Temporary Suspension of Pre...   \n",
       "\n",
       "                                       date  \\\n",
       "69985  Tue, 2 Oct 2001 21:30:07 -0700 (PDT)   \n",
       "69986  Tue, 2 Oct 2001 22:14:57 -0700 (PDT)   \n",
       "69988  Wed, 3 Oct 2001 03:50:24 -0700 (PDT)   \n",
       "69990  Wed, 3 Oct 2001 07:26:56 -0700 (PDT)   \n",
       "69991  Wed, 3 Oct 2001 07:29:25 -0700 (PDT)   \n",
       "69993  Wed, 3 Oct 2001 10:46:31 -0700 (PDT)   \n",
       "69995  Wed, 3 Oct 2001 12:11:47 -0700 (PDT)   \n",
       "69996  Wed, 3 Oct 2001 13:07:21 -0700 (PDT)   \n",
       "69997  Wed, 3 Oct 2001 13:08:33 -0700 (PDT)   \n",
       "69998  Wed, 5 Sep 2001 11:42:30 -0700 (PDT)   \n",
       "\n",
       "                                                    body  \n",
       "69985  Hi all\\n\\nThis is an interesting study being c...  \n",
       "69986  reliant guy, mike jines, called me about the d...  \n",
       "69988  Hey Jeff -see memo attached; it contains good ...  \n",
       "69990  Colleagues:\\n\\n\\tUtility Risk management posit...  \n",
       "69991  \\n\\n -----Original Message-----\\nFrom: \\tEnron...  \n",
       "69993  Tim asked me to forward this to West Desk trad...  \n",
       "69995  \\n\\nRay Alvarez brought to my attention today ...  \n",
       "69996  Mo, please speak up if I got this wrong.\\n\\nTh...  \n",
       "69997  \\nJeff --\\n\\nHow about a call tomorrow to disc...  \n",
       "69998  Here is the ultimate indignity.  just talked t...  "
      ]
     },
     "execution_count": 24,
     "metadata": {},
     "output_type": "execute_result"
    }
   ],
   "source": [
    "cleaned_data.tail(10)"
   ]
  }
 ],
 "metadata": {
  "kernelspec": {
   "display_name": "Python 3",
   "language": "python",
   "name": "python3"
  },
  "language_info": {
   "codemirror_mode": {
    "name": "ipython",
    "version": 3
   },
   "file_extension": ".py",
   "mimetype": "text/x-python",
   "name": "python",
   "nbconvert_exporter": "python",
   "pygments_lexer": "ipython3",
   "version": "3.12.1"
  }
 },
 "nbformat": 4,
 "nbformat_minor": 2
}
